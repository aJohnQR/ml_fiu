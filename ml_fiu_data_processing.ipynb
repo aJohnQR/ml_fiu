{
 "cells": [
  {
   "cell_type": "code",
   "execution_count": null,
   "metadata": {},
   "outputs": [],
   "source": [
    "import csv\n",
    "import matplotlib.pyplot as plt\n",
    "import numpy as np\n",
    "# import pandas as pd\n",
    "import re\n",
    "import seaborn as sns\n",
    "import scipy\n",
    "import sys\n",
    "\n",
    "# from scipy.special import entr\n",
    "from scipy.stats import norm\n",
    "\n",
    "from sklearn.feature_extraction.text import CountVectorizer\n",
    "from sklearn.model_selection import train_test_split\n",
    "from sklearn.preprocessing import LabelEncoder\n",
    "\n",
    "from nltk.corpus import stopwords\n",
    "\n",
    "from keras.callbacks import ModelCheckpoint\n",
    "# from keras.preprocessing.sequence import pad_sequences\n",
    "# from keras.layers import Dropout\n",
    "from keras.layers import Dense, Conv1D, MaxPooling1D, Flatten, Embedding, Dropout\n",
    "from keras.models import Sequential\n",
    "from keras.utils import np_utils"
   ]
  },
  {
   "cell_type": "code",
   "execution_count": null,
   "metadata": {},
   "outputs": [],
   "source": [
    "# Needed functions for processing the data.\n",
    "\n",
    "def clean_review(text):\n",
    "    '''\n",
    "    Function to clean text data.\n",
    "    '''\n",
    "    # Strip HTML tags\n",
    "    text = re.sub('<[^<]+?>', ' ', text)\n",
    " \n",
    "    # Strip escaped quotes\n",
    "    text = text.replace('\\\\\"', '')\n",
    " \n",
    "    # Strip quotes\n",
    "    text = text.replace('\"', '')\n",
    "    \n",
    "    # Strip @\n",
    "    text = text.replace('@', '')\n",
    " \n",
    "    return text\n",
    "\n",
    "\n",
    "def to_sequence(tokenizer, preprocessor, index, text):\n",
    "    '''\n",
    "    Puts words into a onehot embedding for the ML models ... I think.\n",
    "    '''\n",
    "    words = tokenizer(preprocessor(text))\n",
    "    indexes = [index[word] for word in words if word in index]\n",
    "    \n",
    "    return indexes\n",
    "\n",
    "\n",
    "def shuffle(X, y):\n",
    "    '''\n",
    "    Shuffle the data function.\n",
    "    '''\n",
    "    perm = np.random.permutation(len(X))\n",
    "    X = X[perm]\n",
    "    y = y[perm]\n",
    "    \n",
    "    return X, y\n",
    "\n",
    "\n",
    "def convert_to_int(data):\n",
    "    '''\n",
    "    This will convert all data inside a list into integers.\n",
    "    '''\n",
    "    for i in range(0, len(data)):\n",
    "        try:\n",
    "            data[i] = int(data[i])\n",
    "        except:\n",
    "            data[i] = int(data[i][0])\n",
    "\n",
    "    return data\n",
    "\n",
    "\n",
    "def convert_to_one_hot(data):\n",
    "    '''\n",
    "    This takes an input vector of values in the range 0-N or in strings and turns\n",
    "    them into onehot encoded vectors. Used for output labels in multi-class classification.\n",
    "    '''\n",
    "    encoder = LabelEncoder()\n",
    "    encoder.fit(data)\n",
    "    encoded_data = encoder.transform(data)\n",
    "\n",
    "    return np_utils.to_categorical(encoded_data)\n",
    "\n",
    "\n",
    "def add_padding(data, extra_pad=0):\n",
    "    '''\n",
    "    This will add padding to the data inside the list.\n",
    "    It will make each element the same length.\n",
    "    Extra padding can be added by using extra_pad.\n",
    "    '''\n",
    "    max_length = 0\n",
    "    try:\n",
    "        for i in range(0, len(data)):\n",
    "            if len(data[i]) > max_length:\n",
    "                max_length = len(data[i])\n",
    "    except:\n",
    "#         This except handles the case when there is only one datapoint\n",
    "        max_length = len(data)\n",
    "        needed_padding = max_length + extra_pad\n",
    "        padding = [0] * needed_padding\n",
    "        try:\n",
    "            data[i] = data[i] + padding\n",
    "        except:\n",
    "            data[i] = [data[i]] + padding\n",
    "        return data\n",
    "    \n",
    "    for i in range(0, len(data)):\n",
    "        text_length = len(data[i])\n",
    "        needed_padding = max_length - text_length + extra_pad\n",
    "        padding = [0] * needed_padding\n",
    "        try:\n",
    "            data[i] = data[i] + padding\n",
    "        except:\n",
    "            data[i] = [data[i]] + padding\n",
    "\n",
    "    return data"
   ]
  },
  {
   "cell_type": "code",
   "execution_count": 19,
   "metadata": {},
   "outputs": [],
   "source": [
    "# This is data preperation for the model.\n",
    "\n",
    "def data_sequences(input_data, outputs):\n",
    "    input_data_sequences = [to_sequence(tokenize, preprocess, word2idx, x) for x in input_data]\n",
    "    sequence_length = len(max(input_data_sequences, key=len))\n",
    "    input_data_sequences = add_padding(input_data_sequences, extra_pad=0)\n",
    "\n",
    "    X_train, X_test, y_train, y_test = train_test_split(input_data_sequences, outputs, test_size=0.1, random_state=73)\n",
    "\n",
    "    # Need to turn string values to integer values for the model\n",
    "    y_train = convert_to_int(y_train)\n",
    "    y_test = convert_to_int(y_test)\n",
    "    \n",
    "    return X_train, X_test, y_train, y_test, sequence_length\n",
    "\n",
    "# Function to build the CNN model for binary sentiment classification.\n",
    "def CNN_model_sentiment(length_seq):\n",
    "    model = Sequential()\n",
    "    model.add(Embedding(len(vectorizer.get_feature_names()) + 1,\n",
    "                        64,  # Embedding size\n",
    "                        input_length=length_seq))\n",
    "    model.add(Conv1D(64, 5, activation='relu'))\n",
    "    # model_my_v1_combined.add(MaxPooling1D(5))\n",
    "    model.add(Conv1D(64, 5, activation='relu'))\n",
    "    # model_my_v1_combined.add(MaxPooling1D(5))\n",
    "    model.add(Conv1D(64, 5, activation='relu'))\n",
    "    model.add(MaxPooling1D(5))\n",
    "    model.add(Flatten())\n",
    "    model.add(Dense(units=64, activation='relu'))\n",
    "    model.add(Dense(units=1, activation='sigmoid'))\n",
    "\n",
    "    model.compile(loss='binary_crossentropy', optimizer='adam', metrics=['accuracy'])\n",
    "    print(model.summary())\n",
    "    print('number of layers = ', len(model.layers))\n",
    "    return model\n",
    "\n",
    "\n",
    "# Function to build the CNN model for multi-class classification.\n",
    "def CNN_model_classification(length_seq):\n",
    "    '''\n",
    "    This model is the same as the model for sentiment classification except for two\n",
    "    lines marked below.  Sentiment is binary classifcation with 1 output so the sigmoid\n",
    "    function can be used.  Classifiying to three classes used categorical cross entropy\n",
    "    This model will have out put a a 3x1 vector which uses the softmax activation function.\n",
    "    This is so all output values sum to 1 which yield probabilities.\n",
    "    '''\n",
    "    model = Sequential()\n",
    "    model.add(Embedding(len(vectorizer.get_feature_names()) + 1,\n",
    "                        64,  # Embedding size\n",
    "                        input_length=length_seq))\n",
    "    model.add(Conv1D(64, 5, activation='relu'))\n",
    "    # model_my_v1_combined.add(MaxPooling1D(5))\n",
    "    model.add(Conv1D(64, 5, activation='relu'))\n",
    "    # model_my_v1_combined.add(MaxPooling1D(5))\n",
    "    model.add(Conv1D(64, 5, activation='relu'))\n",
    "    model.add(MaxPooling1D(5))\n",
    "    model.add(Flatten())\n",
    "    model.add(Dense(units=64, activation='relu'))\n",
    "    model.add(Dense(units=3, activation='softmax'))   # modified line 1\n",
    "\n",
    "    model.compile(loss='categorical_crossentropy', optimizer='adam', metrics=['accuracy'])  # modified line 2\n",
    "    print(model.summary())\n",
    "    print('number of layers = ', len(model.layers))\n",
    "    return model\n",
    "\n",
    "\n",
    "def train_model(model, X_train, y_train, size_batch=50, num_epochs=2):\n",
    "    print('Starting to train the model.')\n",
    "    for i in range(0, num_epochs):\n",
    "        history = model.fit(X_train[:-100], y_train[:-100], \n",
    "                  epochs=num_epochs, batch_size=size_batch, verbose=1,\n",
    "                  validation_data=(X_train[-100:], y_train[-100:]))\n",
    "    return history\n",
    "\n",
    "\n",
    "def new_text_to_sequence(input_data, proper_model_length):\n",
    "    '''\n",
    "    proper_model_length is the length of the sequence array for each model.\n",
    "    '''\n",
    "    input_data_sequence = [to_sequence(tokenize, preprocess, word2idx, x) for x in input_data]\n",
    "    input_data_sequence = input_data_sequence[0]\n",
    "    sequence_length = proper_model_length - len(input_data_sequence)\n",
    "    if sequence_length >= 0:\n",
    "        input_data_sequence = add_padding(input_data_sequence, extra_pad=sequence_length - 1)\n",
    "    else:\n",
    "        input_data_sequence = input_data_sequence[0:proper_model_length]\n",
    "        print(f'Input text too long. It was clipped by {abs(sequence_length)} values.')\n",
    "    return input_data_sequence\n",
    "\n",
    "def sentiment_label(data):\n",
    "    if data > .5:\n",
    "        print('The sentiment was positive.')\n",
    "    else:\n",
    "        print('The sentiment was negative.')"
   ]
  },
  {
   "cell_type": "code",
   "execution_count": null,
   "metadata": {},
   "outputs": [],
   "source": [
    "# Data processing for news dataset.\n",
    "# News cell 1/4\n",
    "\n",
    "# This is the data set that throws the error below.\n",
    "# 'utf-8' codec can't decode byte 0x96 in position 37: invalid start byte\n",
    "# need the latin-1 encoding argument in the pd.read_csv line.\n",
    "# The allImdb and tweets dataset seem not to need any modification.\n",
    "\n",
    "path = '/Users/AJApple/Downloads/'\n",
    "data_news = []\n",
    "with open(path + 'world_news_in_month_cleaned_2_columsw.csv', 'rt', encoding='latin-1', newline='') as src:\n",
    "    reader_news = csv.reader(src, dialect='excel', lineterminator='\\n')\n",
    "    for row in reader_news:\n",
    "        data_news.extend(row)\n",
    "\n",
    "# Start index at 2 to skip over labels.\n",
    "data_sentence_news = []\n",
    "data_sentiment_news = []\n",
    "\n",
    "index = 0\n",
    "for i in range(0, len(data_news)):\n",
    "    if (i % 2) == 0:\n",
    "        data_sentence_news.append(data_news[index])\n",
    "    else:\n",
    "        data_sentiment_news.append([data_news[index]])\n",
    "    index += 1\n",
    "\n",
    "news_sentiment = data_sentiment_news\n",
    "news_text = []\n",
    "for row in range(0, len(data_sentence_news)):\n",
    "    news_text.append(clean_review(data_sentence_news[row]))\n",
    "    \n",
    "# From this cell there are two out put vectors one for the input text called:\n",
    "#     news_text\n",
    "# and one for the sentiment i.e. label/output called:\n",
    "#     news_sentiment"
   ]
  },
  {
   "cell_type": "code",
   "execution_count": null,
   "metadata": {},
   "outputs": [],
   "source": [
    "# News Cell 2/4\n",
    "\n",
    "# Sanity check cell to make sure data is correct. This should be checked with the \n",
    "# origional csv file data. (It checks out.)\n",
    "\n",
    "a = 52428  # check with random index values\n",
    "print(data_sentence_news[a])\n",
    "print(data_sentiment_news[a])\n",
    "print(news_text[a])\n",
    "print(news_sentiment[a])"
   ]
  },
  {
   "cell_type": "code",
   "execution_count": null,
   "metadata": {},
   "outputs": [],
   "source": [
    "# News Cell 3/4\n",
    "\n",
    "# Analysis of news (of cleaned data).\n",
    "global_sentence_news = []\n",
    "unique_word_count_news = 0\n",
    "word_count_news = 0\n",
    "sentence_lengths_array_news = []\n",
    "\n",
    "for i in range(0, len(news_text)):\n",
    "    sentence = list(news_text[i].split())\n",
    "    word_count_news += len(sentence)\n",
    "    global_sentence_news.extend(sentence)  # need to use extend not append\n",
    "    sentence_lengths_array_news.extend([len(sentence)])\n",
    "\n",
    "# Some dataset statistics.\n",
    "\n",
    "total_sentences_news = len(news_text)\n",
    "print('Total number of sentences = ', total_sentences_news)\n",
    "\n",
    "# To get unique word count use set theory.\n",
    "unique_word_count_news = len(set(global_sentence_news))\n",
    "print('Unique word count news = ', unique_word_count_news)\n",
    "\n",
    "# To get total counts.\n",
    "print('Total word count = ', word_count_news)\n",
    "\n",
    "# Some ratios calculated from the data.\n",
    "print('Unique to total word count of news metric = ', unique_word_count_news / word_count_news)\n",
    "print('Unique word to number of sentences news metric = ', unique_word_count_news / total_sentences_news)\n",
    "\n",
    "# Fit a normal distribution to the data:\n",
    "mu_news, std_news = norm.fit(sentence_lengths_array_news)"
   ]
  },
  {
   "cell_type": "code",
   "execution_count": 8,
   "metadata": {},
   "outputs": [
    {
     "name": "stderr",
     "output_type": "stream",
     "text": [
      "/Users/AJApple/anaconda3/lib/python3.7/site-packages/ipykernel_launcher.py:4: MatplotlibDeprecationWarning: \n",
      "The 'normed' kwarg was deprecated in Matplotlib 2.1 and will be removed in 3.1. Use 'density' instead.\n",
      "  after removing the cwd from sys.path.\n"
     ]
    },
    {
     "data": {
      "image/png": "[encoded data removed]",
      "text/plain": [
       "<Figure size 432x288 with 1 Axes>"
      ]
     },
     "metadata": {
      "needs_background": "light"
     },
     "output_type": "display_data"
    },
    {
     "data": {
      "text/plain": [
       "<matplotlib.axes._subplots.AxesSubplot at 0x150d06b38>"
      ]
     },
     "execution_count": 8,
     "metadata": {},
     "output_type": "execute_result"
    },
    {
     "data": {
      "image/png": "[encoded data removed]",
      "text/plain": [
       "<Figure size 432x288 with 1 Axes>"
      ]
     },
     "metadata": {
      "needs_background": "light"
     },
     "output_type": "display_data"
    }
   ],
   "source": [
    "# News Cell 4/4\n",
    "\n",
    "# Plot the histogram\n",
    "plt.hist(sentence_lengths_array_news, 50, normed=True, color=[231/255,75/255,74/255])\n",
    "\n",
    "# Plot the PDF.\n",
    "# Note there are two distributions fit to the data. The first is a Gaussian and\n",
    "# the second in non-parametric formed by overlapping kernels.\n",
    "\n",
    "xmin, xmax = plt.xlim()\n",
    "x = np.linspace(xmin, xmax, 100)\n",
    "y = norm.pdf(x, mu_news, std_news)\n",
    "plt.plot(x, y)\n",
    "plt.xlabel('Length of news samples')\n",
    "plt.ylabel('Number of news samples')\n",
    "plt.title('Sample Length distribution with a fitted distribution')\n",
    "plt.show()\n",
    "sns.distplot([sentence_lengths_array_news])  # seaborn plot"
   ]
  },
  {
   "cell_type": "code",
   "execution_count": 9,
   "metadata": {},
   "outputs": [],
   "source": [
    "# Data processing for allImdb dataset.\n",
    "# allImdb Cell 1/4\n",
    "\n",
    "path = '/Users/AJApple/Downloads/'\n",
    "data_allImdb = []\n",
    "reader_allImdb = csv.reader(open(path + 'IMDB_dataset_2.csv'), delimiter=',')\n",
    "for row in reader_allImdb:\n",
    "    data_allImdb.extend(row)\n",
    "\n",
    "# Create empty lists to hold the sentences and sentiment data.\n",
    "# These lists contain all the data. The data will still need to get shuffled and split\n",
    "# into traing and test.\n",
    "data_sentence_allImdb = []\n",
    "data_sentiment_allImdb = []\n",
    "\n",
    "index = 0\n",
    "for i in range(0, len(data_allImdb)):\n",
    "    if (i % 2) == 0:\n",
    "        data_sentence_allImdb.append(data_allImdb[index])\n",
    "    else:\n",
    "        data_sentiment_allImdb.append([data_allImdb[index]])\n",
    "    index += 1\n",
    "\n",
    "imdb_sentiment = []\n",
    "for i in range(0, len(data_sentiment_allImdb)):\n",
    "    if data_sentiment_allImdb[i] == ['positive']:\n",
    "        imdb_sentiment.append(1)\n",
    "    else:\n",
    "        imdb_sentiment.append(0)\n",
    "\n",
    "imdb_text = []\n",
    "# Clean the sentence data i.e. removing html tags, ... etc.\n",
    "for row in range(0, len(data_sentence_allImdb)):\n",
    "    imdb_text.append(clean_review(data_sentence_allImdb[row]))\n",
    "    \n",
    "# From this cell there are two out put vectors one for the input text called:\n",
    "#     imdb_text\n",
    "# and one for the sentiment i.e. label/output called:\n",
    "#     imdb_sentiment"
   ]
  },
  {
   "cell_type": "code",
   "execution_count": 10,
   "metadata": {},
   "outputs": [
    {
     "name": "stdout",
     "output_type": "stream",
     "text": [
      "I got this one a few weeks ago and love it! It's modern, light but filled with true complexities of life. It questions and answers, just like other Eytan Fox movies. This is my favorite, along with Jossi & Jagger. This pictures a lot more, universally, than only the bubbles we may live in. You don't need to be Jewish or homosexual to enjoy this - I'm not, but the movie goes directly to my top ten movies. At first it seems like pure entertainment but it does make you think further. Relationships we have to live with are superficial, meaningful, deep, fatal, you name it. You don't know what's coming, and you definitely don't know where this story is heading as you watch it the first time. It is worth seeing several times. Fox movies include great bonus material - here a great music video and \"the making of\" (including explanation of the title, interviewing Lior Ashknenazi who plays himself in the movie and Arabs with doubts about the Israeli life styles).\n",
      "['positive']\n",
      "I got this one a few weeks ago and love it! It's modern, light but filled with true complexities of life. It questions and answers, just like other Eytan Fox movies. This is my favorite, along with Jossi & Jagger. This pictures a lot more, universally, than only the bubbles we may live in. You don't need to be Jewish or homosexual to enjoy this - I'm not, but the movie goes directly to my top ten movies. At first it seems like pure entertainment but it does make you think further. Relationships we have to live with are superficial, meaningful, deep, fatal, you name it. You don't know what's coming, and you definitely don't know where this story is heading as you watch it the first time. It is worth seeing several times. Fox movies include great bonus material - here a great music video and the making of (including explanation of the title, interviewing Lior Ashknenazi who plays himself in the movie and Arabs with doubts about the Israeli life styles).\n",
      "1\n"
     ]
    }
   ],
   "source": [
    "# allImdb Cell 2/4\n",
    "\n",
    "# Sanity check cell to make sure data is correct. This should be checked with the \n",
    "# origional csv file data. (It checks out.)\n",
    "\n",
    "a = 49989  # check with random index values\n",
    "print(data_sentence_allImdb[a])\n",
    "print(data_sentiment_allImdb[a])\n",
    "print(imdb_text[a])\n",
    "print(imdb_sentiment[a])"
   ]
  },
  {
   "cell_type": "code",
   "execution_count": 11,
   "metadata": {},
   "outputs": [
    {
     "name": "stdout",
     "output_type": "stream",
     "text": [
      "Total number of sentences =  50000\n",
      "Unique word count allImdb =  379104\n",
      "Total word count allImdb =  11442730\n",
      "Unique to total word count of allImdb metric =  0.03313055538319964\n",
      "Unique word to number of sentences allImdb metric =  7.58208\n"
     ]
    }
   ],
   "source": [
    "# Analysis of allImdb (of cleaned data).\n",
    "# Cell 3/4\n",
    "\n",
    "global_sentence_allImdb = []\n",
    "unique_word_count_allImdb = 0\n",
    "word_count_allImdb = 0\n",
    "sentence_lengths_array_allImdb = []\n",
    "\n",
    "for i in range(0, len(imdb_text)):\n",
    "    sentence = list(imdb_text[i].split())\n",
    "    word_count_allImdb += len(sentence)\n",
    "    global_sentence_allImdb.extend(sentence)\n",
    "    sentence_lengths_array_allImdb.extend([len(sentence)])\n",
    "\n",
    "# Some dataset statistics.\n",
    "\n",
    "total_sentences_allImdb = len(imdb_text)\n",
    "print('Total number of sentences = ', total_sentences_allImdb)\n",
    "\n",
    "# To get unique word count use set theory.\n",
    "unique_word_count_allImdb = len(set(global_sentence_allImdb))\n",
    "print('Unique word count allImdb = ', unique_word_count_allImdb)\n",
    "\n",
    "# To get total counts.\n",
    "print('Total word count allImdb = ', word_count_allImdb)\n",
    "\n",
    "# Some ratios calculated from the data.\n",
    "print('Unique to total word count of allImdb metric = ', unique_word_count_allImdb / word_count_allImdb)\n",
    "print('Unique word to number of sentences allImdb metric = ', unique_word_count_allImdb / total_sentences_allImdb)\n",
    "\n",
    "# Fit a normal distribution to the data:\n",
    "mu_allImdb, std_allImdb = norm.fit(sentence_lengths_array_allImdb)"
   ]
  },
  {
   "cell_type": "code",
   "execution_count": 12,
   "metadata": {},
   "outputs": [
    {
     "name": "stderr",
     "output_type": "stream",
     "text": [
      "/Users/AJApple/anaconda3/lib/python3.7/site-packages/ipykernel_launcher.py:4: MatplotlibDeprecationWarning: \n",
      "The 'normed' kwarg was deprecated in Matplotlib 2.1 and will be removed in 3.1. Use 'density' instead.\n",
      "  after removing the cwd from sys.path.\n"
     ]
    },
    {
     "data": {
      "image/png": "[encoded data removed]",
      "text/plain": [
       "<Figure size 432x288 with 1 Axes>"
      ]
     },
     "metadata": {
      "needs_background": "light"
     },
     "output_type": "display_data"
    },
    {
     "data": {
      "text/plain": [
       "<matplotlib.axes._subplots.AxesSubplot at 0x150f787f0>"
      ]
     },
     "execution_count": 12,
     "metadata": {},
     "output_type": "execute_result"
    },
    {
     "data": {
      "image/png": "[encoded data removed]",
      "text/plain": [
       "<Figure size 432x288 with 1 Axes>"
      ]
     },
     "metadata": {
      "needs_background": "light"
     },
     "output_type": "display_data"
    }
   ],
   "source": [
    "# allImdb  Cell 4/4\n",
    "\n",
    "# Plot the histogram\n",
    "plt.hist(sentence_lengths_array_allImdb, 'auto', normed=True, color=[231/255,75/255,74/255])\n",
    "\n",
    "# Plot the PDF.\n",
    "# Note there are two distributions fit to the data. The first is a Gaussian and\n",
    "# the second in non-parametric formed by overlapping kernels.\n",
    "\n",
    "# The next four lines will plot a gaussian ... \n",
    "xmin_allImdb, xmax_allImdb = plt.xlim()\n",
    "x_allImdb = np.linspace(xmin_allImdb, xmax_allImdb, 100)\n",
    "y_allImdb = norm.pdf(x_allImdb, mu_allImdb, std_allImdb)\n",
    "plt.plot(x_allImdb, y_allImdb)\n",
    "\n",
    "# The next lines plot using seaborn\n",
    "plt.xlabel('Length of allImdb samples')\n",
    "plt.ylabel('Number of allImdb samples')\n",
    "plt.title('Sample Length distribution with a fitted distribution')\n",
    "plt.show()\n",
    "sns.distplot([sentence_lengths_array_allImdb])"
   ]
  },
  {
   "cell_type": "code",
   "execution_count": 13,
   "metadata": {},
   "outputs": [],
   "source": [
    "# To get data use csv reader cause pandas not working properly.\n",
    "# tweets Cell 1/4\n",
    "\n",
    "path = '/Users/AJApple/Downloads/tweet-sentiment-extraction/'\n",
    "data_tweets = []\n",
    "reader = csv.reader(open(path + 'train_2_columns.csv'), delimiter=',')\n",
    "for row in reader:\n",
    "    data_tweets.extend(row)\n",
    "\n",
    "data_sentence_tweets = []\n",
    "data_sentiment_tweets = []\n",
    "\n",
    "index = 0\n",
    "for i in range(0, len(data_tweets)):\n",
    "    if (i % 2) == 0:\n",
    "        data_sentence_tweets.append(data_tweets[index])\n",
    "    else:\n",
    "        data_sentiment_tweets.append([data_tweets[index]])\n",
    "    index += 1\n",
    "\n",
    "tweets_sentiment = []\n",
    "for i in range(0, len(data_sentiment_tweets)):\n",
    "    if data_sentiment_tweets[i] == ['positive']:\n",
    "        tweets_sentiment.append(1)\n",
    "    elif data_sentiment_tweets[i] == ['negative']:\n",
    "        tweets_sentiment.append(0)\n",
    "    else:\n",
    "        tweets_sentiment.append(2)\n",
    "        \n",
    "tweets_text = []\n",
    "for row in range(0, len(data_sentence_tweets)):\n",
    "    tweets_text.append(clean_review(data_sentence_tweets[row]))\n",
    "    \n",
    "\n",
    "# Now need to remove all the neutral elements\n",
    "\n",
    "index = 0\n",
    "while True:\n",
    "    if tweets_sentiment[index] == 2:\n",
    "        tweets_text.remove(tweets_text[index])\n",
    "        tweets_sentiment.remove(tweets_sentiment[index])\n",
    "        index -= 1\n",
    "    index += 1\n",
    "    if index == len(tweets_text):\n",
    "        break\n",
    "        \n",
    "# From this cell there are two out put vectors one for the input text called:\n",
    "#     tweets_text\n",
    "# and one for the sentiment i.e. label/output called:\n",
    "#     tweets_sentiment"
   ]
  },
  {
   "cell_type": "code",
   "execution_count": 14,
   "metadata": {},
   "outputs": [
    {
     "name": "stdout",
     "output_type": "stream",
     "text": [
      " But it was worth it  ****.\n",
      "1\n"
     ]
    }
   ],
   "source": [
    "# tweets Cell 2/4\n",
    "\n",
    "# Sanity check cell to make sure data is correct. This should be checked with the \n",
    "# origional csv file data. (It checks out.)\n",
    "\n",
    "a = -1\n",
    "print(tweets_text[a])\n",
    "print(tweets_sentiment[a])"
   ]
  },
  {
   "cell_type": "code",
   "execution_count": 15,
   "metadata": {},
   "outputs": [
    {
     "name": "stdout",
     "output_type": "stream",
     "text": [
      "Total number of sentences =  16363\n",
      "Unique word count tweets =  35706\n",
      "Total word count =  217221\n",
      "Unique to total word count metric =  0.16437637245017747\n",
      "Unique word to number of sentences metric =  2.182118193485302\n"
     ]
    }
   ],
   "source": [
    "# Analysis of tweets (of cleaned data)\n",
    "# Cell 3/4\n",
    "\n",
    "global_sentence_tweets = []\n",
    "unique_word_count_tweets = 0\n",
    "word_count_tweets = 0\n",
    "sentence_lengths_array_tweets = []\n",
    "\n",
    "for i in range(0, len(tweets_text)):\n",
    "    sentence = list(tweets_text[i].split())\n",
    "    word_count_tweets += len(sentence)\n",
    "    global_sentence_tweets.extend(sentence)\n",
    "    sentence_lengths_array_tweets.extend([len(sentence)])\n",
    "\n",
    "    \n",
    "# Some dataset statistics\n",
    "\n",
    "total_sentences_tweets = len(tweets_text)\n",
    "print('Total number of sentences = ', total_sentences_tweets)\n",
    "\n",
    "# To get unique word count use set theory.\n",
    "unique_word_count_tweets = len(set(global_sentence_tweets))\n",
    "print('Unique word count tweets = ', unique_word_count_tweets)\n",
    "\n",
    "# Total get total word count.\n",
    "print('Total word count = ', word_count_tweets)\n",
    "\n",
    "# Some ratios calculated from the data\n",
    "print('Unique to total word count metric = ', unique_word_count_tweets / word_count_tweets)\n",
    "print('Unique word to number of sentences metric = ', unique_word_count_tweets / total_sentences_tweets)\n",
    "\n",
    "# Fit a normal distribution to the sentence lengths:\n",
    "mu_tweets, std_tweets = norm.fit(sentence_lengths_array_tweets)"
   ]
  },
  {
   "cell_type": "code",
   "execution_count": 16,
   "metadata": {},
   "outputs": [
    {
     "name": "stderr",
     "output_type": "stream",
     "text": [
      "/Users/AJApple/anaconda3/lib/python3.7/site-packages/ipykernel_launcher.py:4: MatplotlibDeprecationWarning: \n",
      "The 'normed' kwarg was deprecated in Matplotlib 2.1 and will be removed in 3.1. Use 'density' instead.\n",
      "  after removing the cwd from sys.path.\n"
     ]
    },
    {
     "data": {
      "image/png": "[encoded data removed]",
      "text/plain": [
       "<Figure size 432x288 with 1 Axes>"
      ]
     },
     "metadata": {
      "needs_background": "light"
     },
     "output_type": "display_data"
    },
    {
     "data": {
      "text/plain": [
       "<matplotlib.axes._subplots.AxesSubplot at 0x18105e4e0>"
      ]
     },
     "execution_count": 16,
     "metadata": {},
     "output_type": "execute_result"
    },
    {
     "data": {
      "image/png": "[encoded data removed]",
      "text/plain": [
       "<Figure size 432x288 with 1 Axes>"
      ]
     },
     "metadata": {
      "needs_background": "light"
     },
     "output_type": "display_data"
    }
   ],
   "source": [
    "# tweets Cell 4/4\n",
    "\n",
    "# Plot the histogram\n",
    "plt.hist(sentence_lengths_array_tweets, 'auto', normed=True, color=[231/255,75/255,74/255])\n",
    "\n",
    "# Plot the PDF.\n",
    "# Note there are two distributions fit to the data. The first is a Gaussian and\n",
    "# the second in non-parametric formed by overlapping kernels.\n",
    "\n",
    "# The next four lines will plot a gaussian\n",
    "xmin, xmax = plt.xlim()\n",
    "x = np.linspace(xmin, xmax, 100)\n",
    "y = norm.pdf(x, mu_tweets, std_tweets)\n",
    "plt.plot(x, y)\n",
    "\n",
    "# Plotting using seaborn\n",
    "plt.xlabel('Length of samples')\n",
    "plt.ylabel('Number of samples')\n",
    "plt.title('Sample Length distribution with a fitted distribution')\n",
    "plt.show()\n",
    "sns.distplot([sentence_lengths_array_tweets])"
   ]
  },
  {
   "cell_type": "code",
   "execution_count": 17,
   "metadata": {},
   "outputs": [],
   "source": [
    "# Combine all the data from the three data sets.\n",
    "\n",
    "combined_text = news_text + imdb_text + tweets_text\n",
    "combined_sentiment = news_sentiment + imdb_sentiment + tweets_sentiment"
   ]
  },
  {
   "cell_type": "code",
   "execution_count": 18,
   "metadata": {},
   "outputs": [],
   "source": [
    "# This next part has to be once for all the data. It is the function to vectorize the words.\n",
    "\n",
    "vectorizer = CountVectorizer(binary=True, stop_words=stopwords.words('english'), \n",
    "                             lowercase=True, min_df=3, max_df=0.9, max_features=5000)\n",
    "\n",
    "vectorizer.fit_transform(combined_text)\n",
    "\n",
    "word2idx = {word: idx for idx, word in enumerate(vectorizer.get_feature_names())}\n",
    "tokenize = vectorizer.build_tokenizer()\n",
    "preprocess = vectorizer.build_preprocessor()\n",
    "# print(f'This is is list of all the features in dictionary: {vectorizer.get_feature_names()}')"
   ]
  },
  {
   "cell_type": "markdown",
   "metadata": {},
   "source": [
    "There are now 4 types of data: news, imdb, tweets, and combimed.<br>\n",
    "Each dataset has inputs i.e. text, and labels i.e. sentiment scores.  This gives a total\n",
    "of 8 data vectors we will be using.<br> \n",
    "i.e. 4 data types * 2 = 8<br>\n",
    "The 'combined' will be for classication of input string type and 'news, imdb, and tweets'\n",
    "will be for sentiment classification.\n"
   ]
  },
  {
   "cell_type": "markdown",
   "metadata": {},
   "source": [
    "Now can start the CNN model<br>\n",
    "\n",
    "There are 4 varibles that will be used in the modelling at this point:<br>\n",
    "    X_train<br>\n",
    "    X_test<br>\n",
    "    y_train<br>\n",
    "    y_test"
   ]
  },
  {
   "cell_type": "code",
   "execution_count": null,
   "metadata": {},
   "outputs": [
    {
     "name": "stdout",
     "output_type": "stream",
     "text": [
      "Model: \"sequential\"\n",
      "_________________________________________________________________\n",
      "Layer (type)                 Output Shape              Param #   \n",
      "=================================================================\n",
      "embedding (Embedding)        (None, 914, 64)           320064    \n",
      "_________________________________________________________________\n",
      "conv1d (Conv1D)              (None, 910, 64)           20544     \n",
      "_________________________________________________________________\n",
      "conv1d_1 (Conv1D)            (None, 906, 64)           20544     \n",
      "_________________________________________________________________\n",
      "conv1d_2 (Conv1D)            (None, 902, 64)           20544     \n",
      "_________________________________________________________________\n",
      "max_pooling1d (MaxPooling1D) (None, 180, 64)           0         \n",
      "_________________________________________________________________\n",
      "flatten (Flatten)            (None, 11520)             0         \n",
      "_________________________________________________________________\n",
      "dense (Dense)                (None, 64)                737344    \n",
      "_________________________________________________________________\n",
      "dense_1 (Dense)              (None, 3)                 195       \n",
      "=================================================================\n",
      "Total params: 1,119,235\n",
      "Trainable params: 1,119,235\n",
      "Non-trainable params: 0\n",
      "_________________________________________________________________\n",
      "None\n",
      "number of layers =  8\n",
      "Starting to train the model.\n",
      "Epoch 1/2\n",
      " 192/2137 [=>............................] - ETA: 9:43 - loss: 0.2514 - accuracy: 0.9039"
     ]
    }
   ],
   "source": [
    "# This will construct the model for the combined data which will classify the type of text.\n",
    "\n",
    "# This creates a list of values for each of the dataset classes we have.  Since we have three\n",
    "# datasets we will have three labels or categories that will need to be classified.\n",
    "# When a new text string first comes into this system it is classified as either a news, imdb, or\n",
    "# tweets.  Then depending on the classification of these three categories, the corresponding\n",
    "# sentiment model will be used.\n",
    "\n",
    "news_labels = [0] * len(news_sentiment)\n",
    "imdb_labels = [1] * len(imdb_sentiment)\n",
    "tweets_labels = [2] * len(tweets_sentiment)\n",
    "combined_labels = news_labels + imdb_labels + tweets_labels\n",
    "X_train_category, X_test_category, y_train_category, y_test_category, length_category = data_sequences(combined_text, combined_labels)\n",
    "\n",
    "# Convert integer labels into one-hot vectors for multi-class classification\n",
    "y_train_category = convert_to_one_hot(y_train_category)\n",
    "y_test_category = convert_to_one_hot(y_test_category)\n",
    "\n",
    "combined_classification = CNN_model_classification(length_category)\n",
    "\n",
    "# Need to inputs turn into a numpy array or model will not work\n",
    "X_train_category = np.array(X_train_category)\n",
    "X_test_category = np.array(X_test_category)\n",
    "\n",
    "classification_history = train_model(combined_classification, X_train_category, y_train_category)"
   ]
  },
  {
   "cell_type": "code",
   "execution_count": null,
   "metadata": {},
   "outputs": [],
   "source": [
    "# This will construct the model for the news data.\n",
    "\n",
    "X_train_news, X_test_news, y_train_news, y_test_news, length_news = data_sequences(news_text, news_sentiment)\n",
    "\n",
    "news_CNN = CNN_model_sentiment(length_news)\n",
    "\n",
    "news_history = train_model(news_CNN, X_train_news, y_train_news)"
   ]
  },
  {
   "cell_type": "code",
   "execution_count": null,
   "metadata": {},
   "outputs": [],
   "source": [
    "# This will construct the model for the imdb data.\n",
    "\n",
    "X_train_imdb, X_test_imdb, y_train_imdb, y_test_imdb, length_imdb = data_sequences(imdb_text, imdb_sentiment)\n",
    "\n",
    "imdb_CNN = CNN_model_sentiment(length_imdb)\n",
    "\n",
    "imdb_history = train_model(imdb_CNN, X_train_imdb, y_train_imdb)"
   ]
  },
  {
   "cell_type": "code",
   "execution_count": null,
   "metadata": {},
   "outputs": [],
   "source": [
    "# This will construct the model for the tweets data.\n",
    "\n",
    "X_train_tweets, X_test_tweets, y_train_tweets, y_test_tweets, length_tweets = data_sequences(tweets_text, tweets_sentiment)\n",
    "\n",
    "tweets_CNN = CNN_model_sentiment(length_tweets)\n",
    "\n",
    "tweets_history = train_model(tweets_CNN, X_train_tweets, y_train_tweets)"
   ]
  },
  {
   "cell_type": "code",
   "execution_count": null,
   "metadata": {},
   "outputs": [],
   "source": [
    "news_scores = news_CNN.evaluate(X_test_news, y_test_news, verbose=1)"
   ]
  },
  {
   "cell_type": "code",
   "execution_count": null,
   "metadata": {},
   "outputs": [],
   "source": [
    "imdb_scores = imdb_CNN.evaluate(X_test_imdb, y_test_imdb, verbose=1)"
   ]
  },
  {
   "cell_type": "code",
   "execution_count": null,
   "metadata": {},
   "outputs": [],
   "source": [
    "tweets_scores = tweets_CNN.evaluate(X_test_tweets, y_test_tweets, verbose=1)"
   ]
  },
  {
   "cell_type": "code",
   "execution_count": null,
   "metadata": {},
   "outputs": [],
   "source": [
    "# \n",
    "# \n",
    "# \n",
    "# Now that all the models are built the pipline for input text to proper model\n",
    "# can be constructed.\n",
    "# \n",
    "# \n",
    "# "
   ]
  },
  {
   "cell_type": "code",
   "execution_count": null,
   "metadata": {},
   "outputs": [],
   "source": [
    "# This part will simulate running the above models.\n",
    "\n",
    "print('This part will simulate running the above models. Keybord input is required.')\n",
    "exit_program = False\n",
    "while True:\n",
    "    if exit_program == True:\n",
    "        break\n",
    "    print('Do you want to test the model by typing in input string. Enter y or n.')\n",
    "    console_text = input()\n",
    "    console_text = console_text.lower()\n",
    "\n",
    "    if console_text == 'y':\n",
    "        print('You have choosen to continue this progam. Enter q to terminate program.')\n",
    "        print('Enter the text string that you want to check for sentiment. \\nIt can be up to 1000 words.')\n",
    "        while True:\n",
    "            print('Enter string now.')\n",
    "            console_text = [input()]\n",
    "            if console_text == 'q' or console_text == ['q']:\n",
    "                exit_program = True\n",
    "                break\n",
    "            sent_to_score = new_text_to_sequence(console_text, length_category)\n",
    "            model_number = np.argmax(combined_classification.predict(sent_to_score[:1]))\n",
    "            if model_number == 0:\n",
    "                sent_to_score = new_text_to_sequence(console_text, length_news)\n",
    "                print(f'The sentiment score is: {news_CNN.predict(sent_to_score[:1])}')\n",
    "                sentiment_label(news_CNN.predict(sent_to_score[:1]))\n",
    "            elif model_number == 1:\n",
    "                sent_to_score = new_text_to_sequence(console_text, length_imdb)\n",
    "                print(f'The sentiment score is: {imdb_CNN.predict(sent_to_score[:1])}')\n",
    "                sentiment_label(imdb_CNN.predict(sent_to_score[:1]))\n",
    "            elif model_number == 1:\n",
    "                sent_to_score = new_text_to_sequence(console_text, length_tweets)\n",
    "                print(f'The sentiment score is: {tweets_CNN.predict(sent_to_score[:1])}')\n",
    "                sentiment_label(tweets_CNN.predict(sent_to_score[:1]))\n",
    "            else:\n",
    "                print('An error happened with the model or input string. Try another value\\nand check type.')        \n",
    "    elif console_text == 'n':\n",
    "        print('You have choosen to terminate this progam ... exiting now.')\n",
    "        break\n",
    "    else:\n",
    "        print('You typed in something incorrect.  Re-run the cell.')\n",
    "        break"
   ]
  },
  {
   "cell_type": "code",
   "execution_count": null,
   "metadata": {},
   "outputs": [],
   "source": [
    "# \n",
    "# \n",
    "# \n",
    "# Unused code but keep for the time being\n",
    "# \n",
    "# \n",
    "# "
   ]
  },
  {
   "cell_type": "code",
   "execution_count": null,
   "metadata": {},
   "outputs": [],
   "source": [
    "# This will test the model on random input string of our choosing.  These are the commands \n",
    "# that are used to test the models on random input strings.\n",
    "\n",
    "test_to_score = ['I am very very very happy that I came home to you. Now we can enjoy the sun.']\n",
    "\n",
    "sent_to_score = new_text_to_sequence(test_to_score, length_news)\n",
    "print(f'This is the output of the sentiment models: {news_CNN.predict(sent_to_score[:1])}')\n",
    "\n",
    "# sent_to_score = new_text_to_sequence(test_to_score, length_imdb)\n",
    "# imdb_CNN.predict(sent_to_score[:1])\n",
    "\n",
    "# sent_to_score = new_text_to_sequence(test_to_score, length_tweets)\n",
    "# tweets_CNN.predict(sent_to_score[:1])\n",
    "\n",
    "sent_to_score = new_text_to_sequence(test_to_score, length_category)\n",
    "print(f'This is the output of the sentence classification model: {combined_classification.predict(sent_to_score[:1])}')"
   ]
  },
  {
   "cell_type": "code",
   "execution_count": null,
   "metadata": {},
   "outputs": [],
   "source": [
    "input_string = ['I am very very very happy that I came home to you. Now we can enjoy the sun.']\n",
    "\n",
    "sent_to_score = new_text_to_sequence(input_string, length_category)\n",
    "model_number = np.argmax(combined_classification.predict(sent_to_score[:1]))\n",
    "\n",
    "if model_number == 0:\n",
    "    sent_to_score = new_text_to_sequence(input_string, length_news)\n",
    "    news_CNN.predict(sent_to_score[:1])\n",
    "elif model_number == 1:\n",
    "    sent_to_score = new_text_to_sequence(input_string, length_imdb)\n",
    "    imdb_CNN.predict(sent_to_score[:1])\n",
    "elif model_number == 1:\n",
    "    sent_to_score = new_text_to_sequence(input_string, length_tweets)\n",
    "    tweets_CNN.predict(sent_to_score[:1])\n",
    "else:\n",
    "    print('An error happened with the model or input string. Try another value\\nand check type.')"
   ]
  },
  {
   "cell_type": "code",
   "execution_count": null,
   "metadata": {},
   "outputs": [],
   "source": []
  }
 ],
 "metadata": {
  "kernelspec": {
   "display_name": "Python 3",
   "language": "python",
   "name": "python3"
  },
  "language_info": {
   "codemirror_mode": {
    "name": "ipython",
    "version": 3
   },
   "file_extension": ".py",
   "mimetype": "text/x-python",
   "name": "python",
   "nbconvert_exporter": "python",
   "pygments_lexer": "ipython3",
   "version": "3.7.3"
  }
 },
 "nbformat": 4,
 "nbformat_minor": 2
}
